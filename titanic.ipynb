{
 "cells": [
  {
   "cell_type": "code",
   "execution_count": null,
   "id": "74f5790b",
   "metadata": {},
   "outputs": [],
   "source": [
    "import pandas as pd\n",
    "df=pd.read_csv(\"titanic_dataset.csv\")\n",
    "df\n",
    "df.drop(\"Name\",axis=1,inplace=True)\n",
    "df.drop(\"Ticket\",axis=1,inplace=True)\n",
    "df.drop(\"Cabin\",axis=1,inplace=True)\n",
    "df.isnull().sum()\n",
    "\n",
    "df[\"Age\"]=df[\"Age\"].fillna(df[\"Age\"].median())\n",
    "df[\"Embarked\"]=df[\"Embarked\"].fillna(df[\"Embarked\"].mode()[0])\n",
    "df.isnull().sum()\n",
    "df\n",
    "## ENCODING\n",
    "import category_encoders as ce\n",
    "be=ce.BinaryEncoder()\n",
    "ndf=be.fit_transform(df['Sex'])\n",
    "ndf\n",
    "df1=df.copy()\n",
    "from sklearn.preprocessing import LabelEncoder, OrdinalEncoder\n",
    "embark=['S','C','Q']\n",
    "e1=OrdinalEncoder(categories=[embark])\n",
    "df1['Embarked'] = e1.fit_transform(df[['Embarked']])\n",
    "df1\n",
    "\n",
    "## SCALING\n",
    "from sklearn.preprocessing import MinMaxScaler\n",
    "sc=MinMaxScaler()\n",
    "df0=pd.DataFrame(sc.fit_transform(df1),columns=['PassengerId', 'Survived', 'Pclass', 'Sex','Age','SibSp','Parch','Fare','Embarked'])\n",
    "df0\n",
    "from sklearn.preprocessing import StandardScaler\n",
    "sc1=StandardScaler()\n",
    "df2=pd.DataFrame(sc1.fit_transform(df1),columns=['PassengerId', 'Survived', 'Pclass', 'Sex','Age','SibSp','Parch','Fare','Embarked'])\n",
    "df2\n",
    "from sklearn.preprocessing import MaxAbsScaler\n",
    "sc2=MaxAbsScaler()\n",
    "df3=pd.DataFrame(sc2.fit_transform(df1),columns=['PassengerId', 'Survived', 'Pclass', 'Sex','Age','SibSp','Parch','Fare','Embarked'])\n",
    "df3\n",
    "from sklearn.preprocessing import RobustScaler\n",
    "sc3=RobustScaler()\n",
    "df4=pd.DataFrame(sc3.fit_transform(df1),columns=['PassengerId', 'Survived', 'Pclass', 'Sex','Age','SibSp','Parch','Fare','Embarked'])\n",
    "df4"
   ]
  }
 ],
 "metadata": {
  "kernelspec": {
   "display_name": "Python 3",
   "language": "python",
   "name": "python3"
  },
  "language_info": {
   "codemirror_mode": {
    "name": "ipython",
    "version": 3
   },
   "file_extension": ".py",
   "mimetype": "text/x-python",
   "name": "python",
   "nbconvert_exporter": "python",
   "pygments_lexer": "ipython3",
   "version": "3.8.8"
  }
 },
 "nbformat": 4,
 "nbformat_minor": 5
}
